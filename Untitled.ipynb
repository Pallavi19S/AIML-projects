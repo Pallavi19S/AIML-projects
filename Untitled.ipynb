{
 "cells": [
  {
   "cell_type": "code",
   "execution_count": 8,
   "id": "6a0451e3",
   "metadata": {},
   "outputs": [
    {
     "name": "stdout",
     "output_type": "stream",
     "text": [
      "10\n",
      "10\n",
      "10\n",
      "10\n",
      "10\n",
      "10\n",
      "10\n",
      "10\n",
      "10\n",
      "10\n"
     ]
    }
   ],
   "source": [
    "for i in range (1,11):\n",
    "    print(i)"
   ]
  },
  {
   "cell_type": "code",
   "execution_count": 11,
   "id": "5ebbd253",
   "metadata": {},
   "outputs": [
    {
     "name": "stdout",
     "output_type": "stream",
     "text": [
      "10\n",
      "9\n",
      "8\n",
      "7\n",
      "6\n",
      "5\n",
      "4\n",
      "3\n",
      "2\n"
     ]
    }
   ],
   "source": [
    "for i in range (10,1,-1):\n",
    "    print(i)"
   ]
  },
  {
   "cell_type": "code",
   "execution_count": 23,
   "id": "fdf51c45",
   "metadata": {},
   "outputs": [
    {
     "name": "stdout",
     "output_type": "stream",
     "text": [
      "Enter an integer5\n",
      "5\n",
      "4\n",
      "3\n",
      "2\n",
      "1\n",
      "-----\n",
      "1\n",
      "2\n",
      "3\n",
      "4\n",
      "5\n"
     ]
    }
   ],
   "source": [
    "n=int(input(\"Enter an integer\"))\n",
    "for i in range (n,0,-1):\n",
    "    print(i)\n",
    "print(\"-\"*5)\n",
    "for i in range (1,n+1):\n",
    "    print(i)"
   ]
  },
  {
   "cell_type": "code",
   "execution_count": 1,
   "id": "368ab176",
   "metadata": {},
   "outputs": [
    {
     "name": "stdout",
     "output_type": "stream",
     "text": [
      "Enter the number of students2\n",
      "Enter name of the studentV\n",
      "Enter marks47\n",
      "Enter marks48\n",
      "Enter marks49\n",
      "Enter name of the studentJK\n",
      "Enter marks45\n",
      "Enter marks46\n",
      "Enter marks47\n",
      "Enter name of student to fetch marks forV\n"
     ]
    },
    {
     "data": {
      "text/plain": [
       "[47, 48, 49]"
      ]
     },
     "execution_count": 1,
     "metadata": {},
     "output_type": "execute_result"
    }
   ],
   "source": [
    "n=int(input(\"Enter the number of students\"))\n",
    "marks={}\n",
    "for i in range(n):\n",
    "    name=input(\"Enter name of the student\")\n",
    "    lst=[]\n",
    "    for j in range(3):\n",
    "        mark=int(input(\"Enter marks\"))\n",
    "        lst.append(mark)\n",
    "    marks[name]=lst\n",
    "fetch=input(\"Enter name of student to fetch marks for\")\n",
    "marks[fetch]\n",
    "    "
   ]
  },
  {
   "cell_type": "markdown",
   "id": "28302d5c",
   "metadata": {},
   "source": [
    "### "
   ]
  },
  {
   "cell_type": "code",
   "execution_count": 6,
   "id": "2fe13360",
   "metadata": {},
   "outputs": [
    {
     "name": "stdout",
     "output_type": "stream",
     "text": [
      "Enter the number of students: 2\n",
      "\n",
      "Student 1\n",
      "Enter student's name: V\n",
      "Enter Math score: 23\n",
      "Enter Science score: 24\n",
      "Enter English score: 25\n",
      "\n",
      "Student 2\n",
      "Enter student's name: JK\n",
      "Enter Math score: 25\n",
      "Enter Science score: 26\n",
      "Enter English score: 27\n",
      "\n",
      "Student Data:\n",
      "\n",
      "Student 1: V\n",
      "Scores: 23.0, 24.0, 25.0\n",
      "\n",
      "Student 2: JK\n",
      "Scores: 25.0, 26.0, 27.0\n"
     ]
    }
   ],
   "source": [
    "def main():\n",
    "    try:\n",
    "        num_students = int(input(\"Enter the number of students: \"))\n",
    "        \n",
    "        if num_students < 1:\n",
    "            print(\"Please enter a valid number of students (at least 1).\")\n",
    "            return\n",
    "        \n",
    "        student_data = []\n",
    "        \n",
    "        for i in range(num_students):\n",
    "            print(f\"\\nStudent {i+1}\")\n",
    "            name = input(\"Enter student's name: \")\n",
    "            scores = []\n",
    "            \n",
    "            for subject in [\"Math\", \"Science\", \"English\"]:\n",
    "                score = float(input(f\"Enter {subject} score: \"))\n",
    "                scores.append(score)\n",
    "            \n",
    "            student_data.append({\"name\": name, \"scores\": scores})\n",
    "        \n",
    "        print(\"\\nStudent Data:\")\n",
    "        for i, student in enumerate(student_data):\n",
    "            print(f\"\\nStudent {i+1}: {student['name']}\")\n",
    "            print(\"Scores:\", \", \".join(map(str, student['scores'])))\n",
    "    \n",
    "    except ValueError:\n",
    "        print(\"Invalid input. Please enter valid numbers.\")\n",
    "\n",
    "if __name__ == \"__main__\":\n",
    "    main()\n"
   ]
  },
  {
   "cell_type": "code",
   "execution_count": null,
   "id": "fcf97410",
   "metadata": {},
   "outputs": [],
   "source": []
  }
 ],
 "metadata": {
  "kernelspec": {
   "display_name": "Python 3 (ipykernel)",
   "language": "python",
   "name": "python3"
  },
  "language_info": {
   "codemirror_mode": {
    "name": "ipython",
    "version": 3
   },
   "file_extension": ".py",
   "mimetype": "text/x-python",
   "name": "python",
   "nbconvert_exporter": "python",
   "pygments_lexer": "ipython3",
   "version": "3.11.4"
  }
 },
 "nbformat": 4,
 "nbformat_minor": 5
}
